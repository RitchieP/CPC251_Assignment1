{
 "cells": [
  {
   "cell_type": "code",
   "execution_count": 158,
   "metadata": {},
   "outputs": [],
   "source": [
    "import numpy as np\n",
    "import pandas as pd\n",
    "import matplotlib.pyplot as plt"
   ]
  },
  {
   "cell_type": "markdown",
   "metadata": {},
   "source": [
    "### Training the model"
   ]
  },
  {
   "cell_type": "markdown",
   "metadata": {},
   "source": [
    "The training model will have to split the dataset into training and test data. \n",
    "\n",
    "The training data will be used to estimate the weights, the test data will then be used to determine the loss function. In which it will also use the prediction function.\n",
    "\n",
    "https://stackoverflow.com/questions/66079043/split-dataset-without-using-scikit-learn-train-test-split\n",
    "\n",
    "https://medium.com/geekculture/linear-regression-from-scratch-in-python-without-scikit-learn-a06efe5dedb6\n",
    "\n",
    "https://www.geeksforgeeks.org/how-to-implement-a-gradient-descent-in-python-to-find-a-local-minimum/ "
   ]
  },
  {
   "cell_type": "code",
   "execution_count": 159,
   "metadata": {},
   "outputs": [],
   "source": [
    "def train_model(X, y, alpha, max_epoch):\n",
    "    \"\"\" Pass four arguments\n",
    "        Arguments:\n",
    "            X: input features\n",
    "            y: responses\n",
    "            alpha: learning rate\n",
    "            max_epoch: maximum epochs\n",
    "        Returns:\n",
    "            w: estimated weights\n",
    "            hist_loss: training loss history\n",
    "    \"\"\"\n",
    "    hist_loss = []\n",
    "    # Initialize weights with random values\n",
    "    current_weight = np.array(np.random.randint(0, 9, np.shape(X)[1]))\n",
    "\n",
    "    # We calculate the loss function for the first randomly initialized weights, and store it\n",
    "    y_pred = prediction(current_weight, X)\n",
    "    current_loss = loss_fn(y, y_pred)\n",
    "    n = len(y)\n",
    "\n",
    "    for i in range(max_epoch):\n",
    "        # Estimate the parameter using the randomly initialized weights and loss function for it\n",
    "        gradient = -(np.matmul((y-y_pred), X))/n\n",
    "        current_weight = current_weight - alpha * gradient\n",
    "\n",
    "        # Predict with the new weights, and calculate the loss function for it, and store it\n",
    "        y_pred = prediction(current_weight, X)\n",
    "        current_loss = loss_fn(y, y_pred)\n",
    "        hist_loss.append(loss_fn(y, y_pred))\n",
    "\n",
    "    return current_weight, hist_loss\n",
    "\n"
   ]
  },
  {
   "cell_type": "markdown",
   "metadata": {},
   "source": [
    "### Helper Functions\n"
   ]
  },
  {
   "cell_type": "code",
   "execution_count": 160,
   "metadata": {},
   "outputs": [],
   "source": [
    "# Helper function to split dataset into 8:2 training to testing dataset ratio\n",
    "def split_dataset(X, y):\n",
    "    # i will be the number of training datas\n",
    "    i = int((1 - 0.2) * X.shape[0])\n",
    "\n",
    "    # Generates random numbers based on the numbers of data\n",
    "    o = np.random.permutation(X.shape[0])\n",
    "\n",
    "    \"\"\" The following lines will basically rearrange the whole X and y dataset based on the randomized order\n",
    "        Then, we will split it based on the number of training size\n",
    "    \"\"\"\n",
    "    X_train, X_test = np.split(np.take(X, o, axis=0), [i])\n",
    "    y_train, y_test = np.split(np.take(y, o), [i])\n",
    "    return X_train, X_test, y_train, y_test"
   ]
  },
  {
   "cell_type": "markdown",
   "metadata": {},
   "source": [
    "### Prediction of the model"
   ]
  },
  {
   "cell_type": "markdown",
   "metadata": {},
   "source": [
    "This prediction will return the predicted values of a model"
   ]
  },
  {
   "cell_type": "code",
   "execution_count": 161,
   "metadata": {},
   "outputs": [],
   "source": [
    "def prediction(w, X):\n",
    "    \"\"\" Pass two arguments\n",
    "        Arguments:\n",
    "            w: weights\n",
    "            X: input features\n",
    "        Returns:\n",
    "            yhat: predicted values\n",
    "    \"\"\"\n",
    "    yhat = np.matmul(X, w)\n",
    "    return yhat"
   ]
  },
  {
   "cell_type": "markdown",
   "metadata": {},
   "source": [
    "### Loss function of the model"
   ]
  },
  {
   "cell_type": "markdown",
   "metadata": {},
   "source": [
    "This loss function will only return the loss of a model"
   ]
  },
  {
   "cell_type": "code",
   "execution_count": 162,
   "metadata": {},
   "outputs": [],
   "source": [
    "def loss_fn(y, yhat):\n",
    "    \"\"\" Pass two arguments\n",
    "        Arguments:\n",
    "            y: responses\n",
    "            yhat: predicted value\n",
    "        Returns:\n",
    "            loss: loss value\n",
    "    \"\"\"\n",
    "    n = len(y)\n",
    "    loss = (sum((y - yhat)**2)) / (2 * n)\n",
    "    return loss\n",
    "    "
   ]
  },
  {
   "cell_type": "markdown",
   "metadata": {},
   "source": [
    "### Main function"
   ]
  },
  {
   "cell_type": "code",
   "execution_count": 163,
   "metadata": {},
   "outputs": [
    {
     "name": "stdout",
     "output_type": "stream",
     "text": [
      "[533.3065122387858, 437.17367888506413, 360.5356039067252, 299.42985044194944, 250.70109036812937, 211.83638069654336, 180.8341194446207, 156.09978342713498, 136.36296517292766, 120.61135035319012, 108.03817046106029, 98.00037546644485, 89.98533547269763, 83.5843289556887, 78.47143174594446, 74.38670440631142, 71.12280106359043, 68.51430199183837, 66.42921478749085, 64.7622023469111, 63.42918603501735, 62.36304417145896, 61.51018303539746, 60.82780300351958, 60.28171857504081, 59.844619799529326, 59.494685516953474, 59.214477044020775, 58.99005545057973, 58.810277123310705, 58.66623151462608, 58.55079230270306, 58.45825902581689, 58.38407090452876, 58.32457827063212, 58.27685997453321, 58.238577496130894, 58.20785836018824, 58.18320295277013, 58.16341002781622, 58.14751714393058, 58.134753029981304, 58.12449948319827, 58.1162608862393, 58.10963981493079, 58.104317515875344, 58.10003827854254, 58.09659692242338, 58.09382877629709, 58.09160165162545, 58.08980941191739, 58.08836681965687, 58.087205406119935, 58.08627016033636, 58.08551687417395, 58.08491001307032, 58.084421007973944, 58.08402688487749, 58.083709164977876, 58.08345298183475, 58.08324637255591, 58.083079708581465, 58.08294523847397, 58.08283672059217, 58.08274912791542, 58.0826784107915, 58.08262130620168, 58.08257518438759, 58.08253792549344, 58.08250782032925, 58.08248349051912, 58.08246382423486, 58.08244792446095, 58.082435067338835, 58.08242466861847, 58.082416256634325, 58.08240945053203, 58.08240394272037, 58.082399484728555, 58.0823958758015, 58.08239295370483, 58.08239058730728, 58.082388670597055, 58.082387117853195, 58.08238585974843, 58.082384840203716, 58.082384013847616, 58.082383343965006, 58.08238280084046, 58.082382360419004, 58.082382003224446, 58.082381713485226, 58.08238147842735, 58.08238128770284, 58.082381132927786, 58.08238100730832, 58.08238090533788, 58.08238082255291, 58.082380755334796, 58.082380700748956]\n",
      "Estimated weights: [11.77083713 -0.49649204 -0.77443422 37.03907872  0.64349054]\n",
      "The loss of the current model: 60.36734494615108\n"
     ]
    }
   ],
   "source": [
    "if __name__ == \"__main__\":\n",
    "    # Read data from csv file\n",
    "    data = pd.read_csv(\"assignment1_dataset.csv\", sep=\",\")\n",
    "    data = data[[\"f1\", \"f2\", \"f3\", \"f4\", \"f5\", \"response\"]]\n",
    "    predict = \"response\"\n",
    "\n",
    "    \n",
    "    x = data.drop([predict], 1).values\n",
    "    y = data[predict]\n",
    "    epochs = 100\n",
    "\n",
    "    X_train, X_test, y_train, y_test = split_dataset(x, y)\n",
    "    weights, hist_loss = train_model(X_train, y_train, 0.1, epochs)\n",
    "    print(hist_loss)\n",
    "    print(\"\\nEstimated weights: \" + str(weights))\n",
    "\n",
    "    prediction = prediction(weights, X_test)\n",
    "    loss = loss_fn(y_test, prediction)\n",
    "    print(\"The loss of the current model: \" + str(loss))\n",
    "\n",
    "    # testing purposes\n",
    "\n",
    "    # X_train, X_test, y_train, y_test = split_dataset(x, y)\n",
    "    # # Initialize weights with zero with the amount of columns I have\n",
    "    # w = np.array(np.random.randint(0, 9, x.columns.shape))\n",
    "\n",
    "    # new_header = X_test.iloc[0] #grab the first row for the header\n",
    "    # new_X_test = X_test[1:] #take the data less the header row\n",
    "    # new_X_test.columns = new_header #set the header row as the df header\n",
    "\n",
    "    # print(sum(w * new_X_test))\n",
    "    # print(X_test)\n",
    "\n",
    "\n",
    "    # We calculate the loss function for the first randomly initialized weights, and store it\n",
    "    # current_loss = loss_fn(y_test, prediction(w, X_test))\n",
    "\n",
    "    # w, hist_loss = train_model(x, y, 0.2, 100)"
   ]
  },
  {
   "cell_type": "code",
   "execution_count": 164,
   "metadata": {},
   "outputs": [
    {
     "data": {
      "text/plain": [
       "100"
      ]
     },
     "execution_count": 164,
     "metadata": {},
     "output_type": "execute_result"
    }
   ],
   "source": [
    "len(hist_loss)"
   ]
  },
  {
   "cell_type": "code",
   "execution_count": 165,
   "metadata": {},
   "outputs": [
    {
     "data": {
      "image/png": "[encoded data removed]",
      "text/plain": [
       "<Figure size 432x288 with 1 Axes>"
      ]
     },
     "metadata": {
      "needs_background": "light"
     },
     "output_type": "display_data"
    }
   ],
   "source": [
    "x = np.linspace(1, epochs, epochs)\n",
    "plt.title(\"Training Loss against Epochs\")\n",
    "plt.xlabel(\"Epochs\")\n",
    "plt.ylabel(\"Training Loss\")\n",
    "plt.plot(x, hist_loss)\n",
    "plt.show()"
   ]
  },
  {
   "cell_type": "code",
   "execution_count": null,
   "metadata": {},
   "outputs": [],
   "source": []
  }
 ],
 "metadata": {
  "interpreter": {
   "hash": "6d46af94c2bbce495f1e668725902fa517c90b1782bcfe2fce0dd9868df553d3"
  },
  "kernelspec": {
   "display_name": "Python 3.8.3 ('base')",
   "language": "python",
   "name": "python3"
  },
  "language_info": {
   "codemirror_mode": {
    "name": "ipython",
    "version": 3
   },
   "file_extension": ".py",
   "mimetype": "text/x-python",
   "name": "python",
   "nbconvert_exporter": "python",
   "pygments_lexer": "ipython3",
   "version": "3.8.3"
  },
  "orig_nbformat": 4
 },
 "nbformat": 4,
 "nbformat_minor": 2
}
