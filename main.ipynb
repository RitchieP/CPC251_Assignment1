{
 "cells": [
  {
   "cell_type": "code",
   "execution_count": 61,
   "metadata": {},
   "outputs": [],
   "source": [
    "import numpy as np\n",
    "import pandas as pd\n",
    "import matplotlib.pyplot as plt"
   ]
  },
  {
   "cell_type": "markdown",
   "metadata": {},
   "source": [
    "### Training the model"
   ]
  },
  {
   "cell_type": "markdown",
   "metadata": {},
   "source": [
    "The train_model function will train the model by using Gradient Descent estimation for the parameters. It starts off by randomly initializing the weights with numbers between 0 to 9. Then, it will start estimating the parameters via gradient descent.\n",
    "\n",
    "The steps for this part is as follows:\n",
    "> 1. Randomly initialize the weights\n",
    "> 2. Calculate the cost for this model\n",
    "> 3. Improve the weights by estimating via Gradient Descent algorithm\n",
    "> 4. Return the estimated weights and cost history\n",
    "\n",
    "#### References used\n",
    "\n",
    "https://medium.com/geekculture/linear-regression-from-scratch-in-python-without-scikit-learn-a06efe5dedb6\n",
    "\n",
    "https://www.geeksforgeeks.org/how-to-implement-a-gradient-descent-in-python-to-find-a-local-minimum/ "
   ]
  },
  {
   "cell_type": "code",
   "execution_count": 62,
   "metadata": {},
   "outputs": [],
   "source": [
    "def train_model(X, y, alpha, max_epoch):\n",
    "    \"\"\" Pass four arguments\n",
    "        Arguments:\n",
    "            X: input features\n",
    "            y: responses\n",
    "            alpha: learning rate\n",
    "            max_epoch: maximum epochs\n",
    "        Returns:\n",
    "            w: estimated weights\n",
    "            hist_loss: training loss history\n",
    "    \"\"\"\n",
    "    hist_loss = []\n",
    "    # Initialize weights with random values\n",
    "    w = np.array(np.random.randint(0, 9, np.shape(X)[1]))\n",
    "\n",
    "    # We calculate the loss function for the first randomly initialized weights, and store it\n",
    "    y_pred = prediction(w, X)\n",
    "    current_loss = loss_fn(y, y_pred)\n",
    "    n = len(y)\n",
    "\n",
    "    for i in range(max_epoch):\n",
    "        # Estimate the parameter using the randomly initialized weights and loss function for it\n",
    "        gradient = -(np.matmul((y-y_pred), X))/n\n",
    "        w = w - alpha * gradient\n",
    "\n",
    "        # Predict with the new weights, and calculate the loss function for it, and store it\n",
    "        y_pred = prediction(w, X)\n",
    "        current_loss = loss_fn(y, y_pred)\n",
    "        hist_loss.append(current_loss)\n",
    "\n",
    "    return w, hist_loss\n",
    "\n"
   ]
  },
  {
   "cell_type": "markdown",
   "metadata": {},
   "source": [
    "### Helper Function\n",
    "\n",
    "The helper function here is used to help in splitting the dataset into training and testing data. Very much like Scikit Learn's train_test_split function. It first calculates the number of datas to be taken based on the splitting ratio pre-defined. Then it will obtain a random order of indexes based on the number of rows of the dataset. The code will then split the dataset according to the ratio in a randomized order.\n",
    "\n",
    "The steps for this part is as follows:\n",
    "> 1. Calculate number of rows to be taken\n",
    "> 2. Obtain an array of randomized indexes\n",
    "> 3. Split the dataset according to the number of rows and the randomized index.\n",
    "> 4. Return the splitted dataset\n",
    "\n",
    "#### References used\n",
    "\n",
    "https://stackoverflow.com/questions/66079043/split-dataset-without-using-scikit-learn-train-test-split"
   ]
  },
  {
   "cell_type": "code",
   "execution_count": 63,
   "metadata": {},
   "outputs": [],
   "source": [
    "# Helper function to split dataset into 8:2 training to testing dataset ratio\n",
    "def split_dataset(X, y):\n",
    "    # i will be the number of training datas\n",
    "    i = int((1 - 0.2) * X.shape[0])\n",
    "\n",
    "    # Generates random numbers based on the numbers of data\n",
    "    o = np.random.permutation(X.shape[0])\n",
    "\n",
    "    \"\"\" The following lines will basically rearrange the whole X and y dataset based on the randomized order\n",
    "        Then, we will split it based on the number of training size\n",
    "    \"\"\"\n",
    "    X_train, X_test = np.split(np.take(X, o, axis=0), [i])\n",
    "    y_train, y_test = np.split(np.take(y, o), [i])\n",
    "    return X_train, X_test, y_train, y_test"
   ]
  },
  {
   "cell_type": "markdown",
   "metadata": {},
   "source": [
    "### Prediction of the model"
   ]
  },
  {
   "cell_type": "markdown",
   "metadata": {},
   "source": [
    "This prediction will return the predicted values of a model"
   ]
  },
  {
   "cell_type": "code",
   "execution_count": 64,
   "metadata": {},
   "outputs": [],
   "source": [
    "def prediction(w, X):\n",
    "    \"\"\" Pass two arguments\n",
    "        Arguments:\n",
    "            w: weights\n",
    "            X: input features\n",
    "        Returns:\n",
    "            yhat: predicted values\n",
    "    \"\"\"\n",
    "    yhat = np.matmul(X, w)\n",
    "    return yhat"
   ]
  },
  {
   "cell_type": "markdown",
   "metadata": {},
   "source": [
    "### Loss function of the model\n",
    "\n",
    "This loss function will only return the loss of the model. The loss function returned is Mean Squared Error divided by two for a smaller number and mathematical ease."
   ]
  },
  {
   "cell_type": "code",
   "execution_count": 65,
   "metadata": {},
   "outputs": [],
   "source": [
    "def loss_fn(y, yhat):\n",
    "    \"\"\" Pass two arguments\n",
    "        Arguments:\n",
    "            y: responses\n",
    "            yhat: predicted value\n",
    "        Returns:\n",
    "            loss: loss value\n",
    "    \"\"\"\n",
    "    n = len(y)\n",
    "    loss = np.sum((y - yhat)**2) / (2 * n)\n",
    "    return loss\n",
    "    "
   ]
  },
  {
   "cell_type": "markdown",
   "metadata": {},
   "source": [
    "### Main function"
   ]
  },
  {
   "cell_type": "code",
   "execution_count": 66,
   "metadata": {},
   "outputs": [
    {
     "name": "stdout",
     "output_type": "stream",
     "text": [
      "[521.7524953985239, 322.50180723637226, 201.4346610878042, 127.77413811637015, 82.89575251534623, 55.515048908575594, 38.78616544038516, 28.550567276411922, 22.278781544389332, 18.43013982121879, 16.06494273361282, 14.60923315354491, 13.71194421627015, 13.158031550834504, 12.815578100965148, 12.603541150917085, 12.472058504225092, 12.390406278388454, 12.339624855556345, 12.307996815349506, 12.288269750588274, 12.275948166206735, 12.26824135562696, 12.263414368756752, 12.260387041853546, 12.258485910751022, 12.25729048794587, 12.256537870269343, 12.25606345682502, 12.255764054447996, 12.25557488327437, 12.255455225262606, 12.25537945455816, 12.255331423823828, 12.255300946191301, 12.255281587623031, 12.255269279796503, 12.255261447447817, 12.255256458696296, 12.255253278397044, 12.255251249276844, 12.255249953592989, 12.255249125593558, 12.255248596064966, 12.255248257169098, 12.255248040123906, 12.25524790102264, 12.255247811815527, 12.255247754569387, 12.255247717810475, 12.255247694192622, 12.255247679009125, 12.255247669242394, 12.255247662956519, 12.255247658908761, 12.255247656300869, 12.255247654619806, 12.255247653535644, 12.255247652836106, 12.255247652384526, 12.25524765209288, 12.25524765190444, 12.255247651782632, 12.25524765170386, 12.2552476516529, 12.255247651619916, 12.255247651598557, 12.255247651584723, 12.25524765157576, 12.255247651569945, 12.255247651566181, 12.255247651563737, 12.255247651562147, 12.255247651561117, 12.255247651560449, 12.255247651560017, 12.255247651559735, 12.25524765155955, 12.25524765155943, 12.255247651559353, 12.255247651559303, 12.255247651559268, 12.255247651559248, 12.255247651559234, 12.255247651559225, 12.255247651559216, 12.255247651559216, 12.25524765155921, 12.25524765155921, 12.255247651559209, 12.255247651559209, 12.255247651559207, 12.255247651559209, 12.255247651559207, 12.255247651559207, 12.255247651559207, 12.255247651559207, 12.255247651559207, 12.255247651559207, 12.255247651559207]\n",
      "\n",
      "Estimated weights: [ 9.69314818 11.89251878 -0.11181349 -0.0567869  36.86927177  0.18693749](6,)\n",
      "The loss of the current model: 13.499727930997407\n"
     ]
    }
   ],
   "source": [
    "if __name__ == \"__main__\":\n",
    "    # Read data from csv file\n",
    "    data = pd.read_csv(\"assignment1_dataset.csv\", sep=\",\")\n",
    "    data = data[[\"f1\", \"f2\", \"f3\", \"f4\", \"f5\", \"response\"]]\n",
    "    predict = \"response\"\n",
    "\n",
    "    # Defining the x and y data as well as number of epochs\n",
    "    x = data.drop([predict], 1).values\n",
    "    y = data[predict]\n",
    "    epochs = 100\n",
    "    \n",
    "    # We are adding a data with value 1 in front of the current data to allow for the calculation of bias.\n",
    "    # This will be helpful during prediction when we use np.matmul to calculate our predictions\n",
    "    x0 = np.ones(len(data))\n",
    "    x = np.concatenate([np.vstack(x0),x], axis=1)\n",
    "\n",
    "    # Splits the dataset and train the model, after that, use the model to predict with the test dataset.\n",
    "    X_train, X_test, y_train, y_test = split_dataset(x, y)\n",
    "    weights, hist_loss = train_model(X_train, y_train, 0.2, epochs)\n",
    "    print(hist_loss)\n",
    "    print(\"\\nEstimated weights: \" + str(weights) + str(weights.shape))\n",
    "\n",
    "    prediction = prediction(weights, X_test)\n",
    "    loss = loss_fn(y_test, prediction)\n",
    "    print(\"The loss of the current model: \" + str(loss))\n",
    "    "
   ]
  },
  {
   "cell_type": "code",
   "execution_count": 67,
   "metadata": {},
   "outputs": [
    {
     "data": {
      "text/plain": [
       "array([[ 1.        , -0.7642162 , -1.01620947,  0.14940999, -0.05011893,\n",
       "        -0.57812661],\n",
       "       [ 1.        ,  0.76387973, -1.15950917, -0.72149225, -0.65406671,\n",
       "        -0.43167031],\n",
       "       [ 1.        ,  0.51932888, -0.66462118, -1.69490367,  1.33977899,\n",
       "         0.18276429],\n",
       "       ...,\n",
       "       [ 1.        ,  0.34318091,  0.43124139, -0.05471514,  0.94542335,\n",
       "        -2.4746844 ],\n",
       "       [ 1.        ,  0.39102139,  0.49414714,  0.10640306, -0.65227822,\n",
       "        -0.20013865],\n",
       "       [ 1.        , -0.3761683 , -0.05426566, -0.88017593, -0.33424598,\n",
       "        -0.04344723]])"
      ]
     },
     "execution_count": 67,
     "metadata": {},
     "output_type": "execute_result"
    }
   ],
   "source": [
    "x"
   ]
  },
  {
   "cell_type": "markdown",
   "metadata": {},
   "source": [
    "### Display graph"
   ]
  },
  {
   "cell_type": "code",
   "execution_count": 68,
   "metadata": {},
   "outputs": [
    {
     "data": {
      "image/png": "[encoded data removed]",
      "text/plain": [
       "<Figure size 432x288 with 1 Axes>"
      ]
     },
     "metadata": {
      "needs_background": "light"
     },
     "output_type": "display_data"
    }
   ],
   "source": [
    "x = np.linspace(1, epochs, epochs)\n",
    "plt.title(\"Training Loss against Epochs\")\n",
    "plt.xlabel(\"Epochs\")\n",
    "plt.ylabel(\"Training Loss\")\n",
    "plt.plot(x, hist_loss, marker=\".\", markerfacecolor=\"red\", markeredgecolor=\"purple\", markersize=10.0)\n",
    "plt.show()"
   ]
  },
  {
   "cell_type": "markdown",
   "metadata": {},
   "source": [
    "### Displaying Mean Squred Error and R-Squared Error"
   ]
  },
  {
   "cell_type": "code",
   "execution_count": 69,
   "metadata": {},
   "outputs": [
    {
     "name": "stdout",
     "output_type": "stream",
     "text": [
      "Mean Squared Error: 26.999455861994814\n",
      "R-Squared Error: 0.9820008441924185\n"
     ]
    }
   ],
   "source": [
    "# Loss times 2 is because our loss is divided by 2\n",
    "print(\"Mean Squared Error: \" + str(loss * 2))\n",
    "\n",
    "sst = sum((y_test - y_test.mean())**2)\n",
    "r2Error = 1 - ((loss * 2 * len(y_test))/sst)\n",
    "print(\"R-Squared Error: \" + str(r2Error))"
   ]
  }
 ],
 "metadata": {
  "interpreter": {
   "hash": "6d46af94c2bbce495f1e668725902fa517c90b1782bcfe2fce0dd9868df553d3"
  },
  "kernelspec": {
   "display_name": "Python 3.8.3 ('base')",
   "language": "python",
   "name": "python3"
  },
  "language_info": {
   "codemirror_mode": {
    "name": "ipython",
    "version": 3
   },
   "file_extension": ".py",
   "mimetype": "text/x-python",
   "name": "python",
   "nbconvert_exporter": "python",
   "pygments_lexer": "ipython3",
   "version": "3.8.3"
  },
  "orig_nbformat": 4
 },
 "nbformat": 4,
 "nbformat_minor": 2
}
