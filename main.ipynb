{
 "cells": [
  {
   "cell_type": "code",
   "execution_count": 45,
   "metadata": {},
   "outputs": [],
   "source": [
    "import numpy as np\n",
    "import pandas as pd\n",
    "import matplotlib.pyplot as plt"
   ]
  },
  {
   "cell_type": "markdown",
   "metadata": {},
   "source": [
    "### Training the model"
   ]
  },
  {
   "cell_type": "markdown",
   "metadata": {},
   "source": [
    "The train_model function will train the model by using Gradient Descent estimation for the parameters. It starts off by randomly initializing the weights with numbers between 0 to 9. Then, it will start estimating the parameters via gradient descent.\n",
    "\n",
    "The steps for this part is as follows:\n",
    "> 1. Randomly initialize the weights\n",
    "> 2. Calculate the cost for this model\n",
    "> 3. Improve the weights by estimating via Gradient Descent algorithm\n",
    "> 4. Return the estimated weights and cost history\n",
    "\n",
    "#### References used\n",
    "\n",
    "https://medium.com/geekculture/linear-regression-from-scratch-in-python-without-scikit-learn-a06efe5dedb6\n",
    "\n",
    "https://www.geeksforgeeks.org/how-to-implement-a-gradient-descent-in-python-to-find-a-local-minimum/ "
   ]
  },
  {
   "cell_type": "code",
   "execution_count": 46,
   "metadata": {},
   "outputs": [],
   "source": [
    "def train_model(X, y, alpha, max_epoch):\n",
    "    \"\"\" Pass four arguments\n",
    "        Arguments:\n",
    "            X: input features\n",
    "            y: responses\n",
    "            alpha: learning rate\n",
    "            max_epoch: maximum epochs\n",
    "        Returns:\n",
    "            w: estimated weights\n",
    "            hist_loss: training loss history\n",
    "    \"\"\"\n",
    "    hist_loss = []\n",
    "    # Initialize weights with random values\n",
    "    w = np.array(np.random.randint(0, 9, np.shape(X)[1]))\n",
    "\n",
    "    # We calculate the loss function for the first randomly initialized weights, and store it\n",
    "    y_pred = prediction(w, X)\n",
    "    current_loss = loss_fn(y, y_pred)\n",
    "    n = len(y)\n",
    "\n",
    "    for i in range(max_epoch):\n",
    "        # Estimate the parameter using the randomly initialized weights and loss function for it\n",
    "        gradient = -(np.matmul((y-y_pred), X))/n\n",
    "        w = w - alpha * gradient\n",
    "\n",
    "        # Predict with the new weights, and calculate the loss function for it, and store it\n",
    "        y_pred = prediction(w, X)\n",
    "        current_loss = loss_fn(y, y_pred)\n",
    "        hist_loss.append(current_loss)\n",
    "\n",
    "    return w, hist_loss\n",
    "\n"
   ]
  },
  {
   "cell_type": "markdown",
   "metadata": {},
   "source": [
    "### Helper Function\n",
    "\n",
    "The helper function here is used to help in splitting the dataset into training and testing data. Very much like Scikit Learn's train_test_split function. It first calculates the number of datas to be taken based on the splitting ratio pre-defined. Then it will obtain a random order of indexes based on the number of rows of the dataset. The code will then split the dataset according to the ratio in a randomized order.\n",
    "\n",
    "The steps for this part is as follows:\n",
    "> 1. Calculate number of rows to be taken\n",
    "> 2. Obtain an array of randomized indexes\n",
    "> 3. Split the dataset according to the number of rows and the randomized index.\n",
    "> 4. Return the splitted dataset\n",
    "\n",
    "#### References used\n",
    "\n",
    "https://stackoverflow.com/questions/66079043/split-dataset-without-using-scikit-learn-train-test-split"
   ]
  },
  {
   "cell_type": "code",
   "execution_count": 47,
   "metadata": {},
   "outputs": [],
   "source": [
    "# Helper function to split dataset into 8:2 training to testing dataset ratio\n",
    "def split_dataset(X, y):\n",
    "    # i will be the number of training datas\n",
    "    i = int((1 - 0.2) * X.shape[0])\n",
    "\n",
    "    # Generates random numbers based on the numbers of data\n",
    "    o = np.random.permutation(X.shape[0])\n",
    "\n",
    "    \"\"\" The following lines will basically rearrange the whole X and y dataset based on the randomized order\n",
    "        Then, we will split it based on the number of training size\n",
    "    \"\"\"\n",
    "    X_train, X_test = np.split(np.take(X, o, axis=0), [i])\n",
    "    y_train, y_test = np.split(np.take(y, o), [i])\n",
    "    return X_train, X_test, y_train, y_test"
   ]
  },
  {
   "cell_type": "markdown",
   "metadata": {},
   "source": [
    "### Prediction of the model"
   ]
  },
  {
   "cell_type": "markdown",
   "metadata": {},
   "source": [
    "This prediction will return the predicted values of a model"
   ]
  },
  {
   "cell_type": "code",
   "execution_count": 48,
   "metadata": {},
   "outputs": [],
   "source": [
    "def prediction(w, X):\n",
    "    \"\"\" Pass two arguments\n",
    "        Arguments:\n",
    "            w: weights\n",
    "            X: input features\n",
    "        Returns:\n",
    "            yhat: predicted values\n",
    "    \"\"\"\n",
    "    yhat = np.matmul(X, w)\n",
    "    return yhat"
   ]
  },
  {
   "cell_type": "markdown",
   "metadata": {},
   "source": [
    "### Loss function of the model\n",
    "\n",
    "This loss function will only return the loss of the model. The loss function returned is Mean Squared Error divided by two for a smaller number and mathematical ease."
   ]
  },
  {
   "cell_type": "code",
   "execution_count": 49,
   "metadata": {},
   "outputs": [],
   "source": [
    "def loss_fn(y, yhat):\n",
    "    \"\"\" Pass two arguments\n",
    "        Arguments:\n",
    "            y: responses\n",
    "            yhat: predicted value\n",
    "        Returns:\n",
    "            loss: loss value\n",
    "    \"\"\"\n",
    "    n = len(y)\n",
    "    loss = np.sum((y - yhat)**2) / (2 * n)\n",
    "    return loss\n",
    "    "
   ]
  },
  {
   "cell_type": "markdown",
   "metadata": {},
   "source": [
    "### Main function"
   ]
  },
  {
   "cell_type": "code",
   "execution_count": 50,
   "metadata": {},
   "outputs": [
    {
     "name": "stdout",
     "output_type": "stream",
     "text": [
      "[471.42856557795005, 316.95703780093686, 220.4527464280808, 160.13903939519173, 122.42893093897368, 98.84191207784941, 84.08270631870015, 74.84362646611996, 69.05772030809574, 65.43285310652932, 63.160938678469975, 61.73640711230158, 60.84282701682131, 60.282066749539155, 59.93001676583139, 59.708903018515265, 59.569967776695066, 59.48263138282412, 59.427707010548076, 59.39315106624576, 59.371400578575155, 59.35770423947874, 59.34907584671142, 59.343637764210236, 59.34020888122348, 59.33804590890623, 59.336680882527105, 59.335819049367885, 59.335274675043664, 59.33493067027128, 59.33471318806015, 59.334575633371315, 59.33448859328695, 59.334433492827536, 59.33439859625119, 59.33437648559231, 59.334362470005324, 59.33435358186247, 59.334347942887426, 59.3343443637537, 59.33434209104712, 59.334340647285465, 59.334339729728114, 59.33433914634303, 59.334338775269025, 59.334338539141065, 59.33433838882181, 59.3343382930891, 59.334338232095654, 59.33433819321966, 59.334338168431, 59.33433815261866, 59.33433814252825, 59.33433813608671, 59.33433813197299, 59.33433812934487, 59.334338127665234, 59.33433812659138, 59.334338125904594, 59.33433812546518, 59.33433812518395, 59.334338125003896, 59.33433812488858, 59.33433812481471, 59.334338124767356, 59.334338124737, 59.33433812471754, 59.33433812470505, 59.33433812469704, 59.3343381246919, 59.33433812468859, 59.334338124686475, 59.33433812468511, 59.33433812468424, 59.334338124683676, 59.33433812468332, 59.33433812468308, 59.33433812468293, 59.33433812468284, 59.33433812468277, 59.33433812468272, 59.33433812468271, 59.33433812468269, 59.33433812468269, 59.334338124682674, 59.33433812468266, 59.33433812468265, 59.334338124682674, 59.33433812468265, 59.33433812468265, 59.334338124682674, 59.33433812468265, 59.334338124682674, 59.33433812468265, 59.33433812468265, 59.33433812468265, 59.33433812468265, 59.33433812468265, 59.33433812468265, 59.33433812468265]\n",
      "\n",
      "Estimated weights: [ 1.18102055e+01 -3.16840400e-01 -8.74430501e-01  3.72311756e+01\n",
      "  3.16111284e-02]\n",
      "The loss of the current model: 55.17791932438513\n"
     ]
    }
   ],
   "source": [
    "if __name__ == \"__main__\":\n",
    "    # Read data from csv file\n",
    "    data = pd.read_csv(\"assignment1_dataset.csv\", sep=\",\")\n",
    "    data = data[[\"f1\", \"f2\", \"f3\", \"f4\", \"f5\", \"response\"]]\n",
    "    predict = \"response\"\n",
    "\n",
    "    # Defining the x and y data as well as number of epochs\n",
    "    x = data.drop([predict], 1).values\n",
    "    y = data[predict]\n",
    "    epochs = 100\n",
    "\n",
    "    # Splits the dataset and train the model, after that, use the model to predict with the test dataset.\n",
    "    X_train, X_test, y_train, y_test = split_dataset(x, y)\n",
    "    weights, hist_loss = train_model(X_train, y_train, 0.2, epochs)\n",
    "    print(hist_loss)\n",
    "    print(\"\\nEstimated weights: \" + str(weights))\n",
    "\n",
    "    prediction = prediction(weights, X_test)\n",
    "    loss = loss_fn(y_test, prediction)\n",
    "    print(\"The loss of the current model: \" + str(loss))"
   ]
  },
  {
   "cell_type": "markdown",
   "metadata": {},
   "source": [
    "### Display graph"
   ]
  },
  {
   "cell_type": "code",
   "execution_count": 60,
   "metadata": {},
   "outputs": [
    {
     "data": {
      "image/png": "[encoded data removed]",
      "text/plain": [
       "<Figure size 432x288 with 1 Axes>"
      ]
     },
     "metadata": {
      "needs_background": "light"
     },
     "output_type": "display_data"
    }
   ],
   "source": [
    "x = np.linspace(1, epochs, epochs)\n",
    "plt.title(\"Training Loss against Epochs\")\n",
    "plt.xlabel(\"Epochs\")\n",
    "plt.ylabel(\"Training Loss\")\n",
    "plt.plot(x, hist_loss, marker=\".\", markerfacecolor=\"red\", markeredgecolor=\"purple\", markersize=10.0)\n",
    "plt.show()"
   ]
  },
  {
   "cell_type": "markdown",
   "metadata": {},
   "source": [
    "### Displaying Mean Squred Error and R-Squared Error"
   ]
  },
  {
   "cell_type": "code",
   "execution_count": 52,
   "metadata": {},
   "outputs": [
    {
     "name": "stdout",
     "output_type": "stream",
     "text": [
      "Mean Squared Error: 110.35583864877026\n",
      "R-Squared Error: 0.9996661262100298\n"
     ]
    }
   ],
   "source": [
    "# Loss times 2 is because our loss is divided by 2\n",
    "print(\"Mean Squared Error: \" + str(loss * 2))\n",
    "\n",
    "sst = sum((y_test - y_test.mean())**2)\n",
    "r2Error = 1 - ((loss * 2)/sst)\n",
    "print(\"R-Squared Error: \" + str(r2Error))"
   ]
  }
 ],
 "metadata": {
  "interpreter": {
   "hash": "6d46af94c2bbce495f1e668725902fa517c90b1782bcfe2fce0dd9868df553d3"
  },
  "kernelspec": {
   "display_name": "Python 3.8.3 ('base')",
   "language": "python",
   "name": "python3"
  },
  "language_info": {
   "codemirror_mode": {
    "name": "ipython",
    "version": 3
   },
   "file_extension": ".py",
   "mimetype": "text/x-python",
   "name": "python",
   "nbconvert_exporter": "python",
   "pygments_lexer": "ipython3",
   "version": "3.8.3"
  },
  "orig_nbformat": 4
 },
 "nbformat": 4,
 "nbformat_minor": 2
}
